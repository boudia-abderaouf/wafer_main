{
 "cells": [
  {
   "cell_type": "code",
   "execution_count": 2,
   "metadata": {},
   "outputs": [],
   "source": [
    "import pandas as pd \n",
    "import numpy as np \n",
    "import matplotlib.pyplot as plt \n",
    "import seaborn as sns \n",
    "import polars as pl"
   ]
  },
  {
   "cell_type": "code",
   "execution_count": null,
   "metadata": {},
   "outputs": [],
   "source": [
    "import os \n",
    "os.getcwd()"
   ]
  },
  {
   "cell_type": "code",
   "execution_count": 4,
   "metadata": {},
   "outputs": [],
   "source": [
    "df = pl.read_csv(\"../Training_Batch_Files/Wafer_15010_130532.csv\", has_header=True)"
   ]
  },
  {
   "cell_type": "code",
   "execution_count": 10,
   "metadata": {},
   "outputs": [
    {
     "data": {
      "text/html": [
       "<div><style>\n",
       ".dataframe > thead > tr,\n",
       ".dataframe > tbody > tr {\n",
       "  text-align: right;\n",
       "  white-space: pre-wrap;\n",
       "}\n",
       "</style>\n",
       "<small>shape: (5, 591)</small><table border=\"1\" class=\"dataframe\"><thead><tr><th></th><th>Sensor-1</th><th>Sensor-2</th><th>Sensor-3</th><th>Sensor-4</th><th>Sensor-5</th><th>Sensor-6</th><th>Sensor-7</th><th>Sensor-8</th><th>Sensor-9</th><th>Sensor-10</th><th>Sensor-11</th><th>Sensor-12</th><th>Sensor-13</th><th>Sensor-14</th><th>Sensor-15</th><th>Sensor-16</th><th>Sensor-17</th><th>Sensor-18</th><th>Sensor-19</th><th>Sensor-20</th><th>Sensor-21</th><th>Sensor-22</th><th>Sensor-23</th><th>Sensor-24</th><th>Sensor-25</th><th>Sensor-26</th><th>Sensor-27</th><th>Sensor-28</th><th>Sensor-29</th><th>Sensor-30</th><th>Sensor-31</th><th>Sensor-32</th><th>Sensor-33</th><th>Sensor-34</th><th>Sensor-35</th><th>Sensor-36</th><th>&hellip;</th><th>Sensor-554</th><th>Sensor-555</th><th>Sensor-556</th><th>Sensor-557</th><th>Sensor-558</th><th>Sensor-559</th><th>Sensor-560</th><th>Sensor-561</th><th>Sensor-562</th><th>Sensor-563</th><th>Sensor-564</th><th>Sensor-565</th><th>Sensor-566</th><th>Sensor-567</th><th>Sensor-568</th><th>Sensor-569</th><th>Sensor-570</th><th>Sensor-571</th><th>Sensor-572</th><th>Sensor-573</th><th>Sensor-574</th><th>Sensor-575</th><th>Sensor-576</th><th>Sensor-577</th><th>Sensor-578</th><th>Sensor-579</th><th>Sensor-580</th><th>Sensor-581</th><th>Sensor-582</th><th>Sensor-583</th><th>Sensor-584</th><th>Sensor-585</th><th>Sensor-586</th><th>Sensor-587</th><th>Sensor-588</th><th>Sensor-589</th><th>Sensor-590</th></tr><tr><td>str</td><td>f64</td><td>f64</td><td>f64</td><td>f64</td><td>f64</td><td>i64</td><td>f64</td><td>f64</td><td>f64</td><td>f64</td><td>f64</td><td>f64</td><td>f64</td><td>i64</td><td>f64</td><td>f64</td><td>f64</td><td>f64</td><td>f64</td><td>f64</td><td>f64</td><td>f64</td><td>f64</td><td>f64</td><td>f64</td><td>f64</td><td>f64</td><td>f64</td><td>f64</td><td>f64</td><td>f64</td><td>f64</td><td>f64</td><td>f64</td><td>f64</td><td>f64</td><td>&hellip;</td><td>f64</td><td>f64</td><td>f64</td><td>f64</td><td>f64</td><td>f64</td><td>f64</td><td>f64</td><td>f64</td><td>f64</td><td>f64</td><td>f64</td><td>f64</td><td>f64</td><td>f64</td><td>f64</td><td>f64</td><td>f64</td><td>f64</td><td>f64</td><td>f64</td><td>f64</td><td>f64</td><td>f64</td><td>f64</td><td>f64</td><td>f64</td><td>f64</td><td>f64</td><td>f64</td><td>f64</td><td>f64</td><td>f64</td><td>f64</td><td>f64</td><td>f64</td><td>f64</td></tr></thead><tbody><tr><td>&quot;Wafer-800&quot;</td><td>3002.22</td><td>2462.06</td><td>2202.1222</td><td>1833.3772</td><td>1.8005</td><td>100</td><td>95.85</td><td>0.1242</td><td>1.5173</td><td>0.0069</td><td>0.0075</td><td>0.9442</td><td>203.4157</td><td>0</td><td>3.8103</td><td>404.6972</td><td>9.664</td><td>0.9699</td><td>193.7516</td><td>12.4349</td><td>1.4058</td><td>-5578.75</td><td>2469.5</td><td>-4240.75</td><td>6564.25</td><td>1.2837</td><td>2.0383</td><td>7.3445</td><td>70.1667</td><td>1.9889</td><td>0.1701</td><td>3.3818</td><td>84.9173</td><td>9.131</td><td>50.0942</td><td>64.3185</td><td>&hellip;</td><td>null</td><td>null</td><td>null</td><td>null</td><td>null</td><td>0.9326</td><td>0.1028</td><td>0.0229</td><td>11.0253</td><td>266.494</td><td>0.6746</td><td>6.4</td><td>0.1189</td><td>2.3492</td><td>0.0495</td><td>2.4016</td><td>17.6187</td><td>533.3882</td><td>2.3461</td><td>8.63</td><td>0.4327</td><td>3.0837</td><td>0.1285</td><td>1.618</td><td>18.4445</td><td>null</td><td>null</td><td>null</td><td>null</td><td>0.5021</td><td>0.0071</td><td>0.0024</td><td>1.4182</td><td>0.0545</td><td>0.0184</td><td>0.0055</td><td>33.7876</td></tr><tr><td>&quot;Wafer-500&quot;</td><td>3047.28</td><td>2186.06</td><td>2235.0556</td><td>1302.6607</td><td>1.6347</td><td>100</td><td>109.9856</td><td>0.123</td><td>1.4619</td><td>0.0189</td><td>-0.006</td><td>0.9651</td><td>197.1621</td><td>0</td><td>2.2935</td><td>817.003</td><td>9.9475</td><td>0.979</td><td>187.2146</td><td>12.5451</td><td>1.3933</td><td>-5394.75</td><td>2763.5</td><td>-3974.0</td><td>-312.5</td><td>1.268</td><td>2.019</td><td>7.3115</td><td>69.0667</td><td>2.8667</td><td>0.2298</td><td>3.4664</td><td>86.0936</td><td>8.5891</td><td>50.4484</td><td>64.1358</td><td>&hellip;</td><td>7.906</td><td>0.5283</td><td>48.461</td><td>3.97</td><td>1.972</td><td>1.2606</td><td>0.1927</td><td>0.0369</td><td>15.2895</td><td>255.288</td><td>0.8574</td><td>5.56</td><td>0.2455</td><td>2.3325</td><td>0.1037</td><td>2.1779</td><td>28.6267</td><td>534.6555</td><td>2.0338</td><td>6.93</td><td>0.399</td><td>2.2109</td><td>0.1056</td><td>1.2962</td><td>19.6191</td><td>null</td><td>null</td><td>null</td><td>null</td><td>0.4998</td><td>0.0131</td><td>0.0033</td><td>2.6229</td><td>0.0222</td><td>0.0182</td><td>0.006</td><td>81.9472</td></tr><tr><td>&quot;Wafer-501&quot;</td><td>3076.81</td><td>2158.75</td><td>2208.2334</td><td>1517.0152</td><td>1.098</td><td>100</td><td>110.19</td><td>0.1247</td><td>1.4357</td><td>0.0089</td><td>0.0052</td><td>0.9655</td><td>199.7795</td><td>0</td><td>9.5309</td><td>412.8315</td><td>10.3272</td><td>0.9715</td><td>189.4522</td><td>12.5031</td><td>1.3936</td><td>-6273.75</td><td>3099.5</td><td>-6286.75</td><td>1542.0</td><td>0.9815</td><td>1.8963</td><td>5.1583</td><td>69.6111</td><td>2.3778</td><td>0.1511</td><td>4.6859</td><td>84.0746</td><td>9.3335</td><td>50.4357</td><td>64.3729</td><td>&hellip;</td><td>null</td><td>null</td><td>null</td><td>null</td><td>null</td><td>0.9552</td><td>0.2197</td><td>0.0392</td><td>23.0054</td><td>253.386</td><td>0.8654</td><td>8.25</td><td>0.2698</td><td>3.3504</td><td>0.1041</td><td>3.2559</td><td>31.1737</td><td>533.2291</td><td>2.2587</td><td>8.28</td><td>0.2158</td><td>2.8321</td><td>0.0724</td><td>1.5528</td><td>9.5549</td><td>0.0465</td><td>0.0299</td><td>0.009</td><td>64.2405</td><td>0.5016</td><td>0.0152</td><td>0.004</td><td>3.0319</td><td>0.0465</td><td>0.0299</td><td>0.009</td><td>64.2405</td></tr><tr><td>&quot;Wafer-502&quot;</td><td>2951.62</td><td>2511.92</td><td>2253.5111</td><td>1397.506</td><td>0.966</td><td>100</td><td>109.7611</td><td>0.121</td><td>1.5527</td><td>0.0119</td><td>-0.0082</td><td>0.9572</td><td>199.7862</td><td>0</td><td>11.6535</td><td>413.2373</td><td>10.5044</td><td>0.9737</td><td>189.2818</td><td>12.4673</td><td>1.3879</td><td>-6368.5</td><td>3016.25</td><td>-4134.3333</td><td>1526.5</td><td>0.9712</td><td>1.8872</td><td>5.067</td><td>68.1111</td><td>2.0889</td><td>0.1519</td><td>4.656</td><td>83.6359</td><td>9.7836</td><td>50.2716</td><td>64.1163</td><td>&hellip;</td><td>6.2595</td><td>0.052</td><td>36.7217</td><td>3.1473</td><td>0.1646</td><td>0.9799</td><td>0.4397</td><td>0.0728</td><td>44.8745</td><td>null</td><td>null</td><td>null</td><td>null</td><td>null</td><td>null</td><td>null</td><td>null</td><td>531.9209</td><td>2.2497</td><td>7.99</td><td>0.2536</td><td>2.9131</td><td>0.08</td><td>1.5021</td><td>11.2721</td><td>-0.0012</td><td>0.0252</td><td>0.0081</td><td>0.0</td><td>0.4953</td><td>0.0105</td><td>0.0037</td><td>2.1266</td><td>-0.0012</td><td>0.0252</td><td>0.0081</td><td>0.0</td></tr><tr><td>&quot;Wafer-503&quot;</td><td>2930.42</td><td>2505.17</td><td>2235.0556</td><td>1302.6607</td><td>1.6347</td><td>100</td><td>109.9856</td><td>0.123</td><td>1.4588</td><td>-0.0143</td><td>0.0017</td><td>0.9702</td><td>198.3353</td><td>0</td><td>10.4761</td><td>420.1418</td><td>10.121</td><td>0.9802</td><td>188.2143</td><td>12.5031</td><td>1.4147</td><td>-5319.25</td><td>2691.0</td><td>-2732.5</td><td>-1411.5</td><td>1.2933</td><td>1.9968</td><td>7.332</td><td>68.6</td><td>2.3333</td><td>0.1899</td><td>3.4207</td><td>85.3154</td><td>8.5135</td><td>50.3873</td><td>64.1605</td><td>&hellip;</td><td>5.8523</td><td>0.4781</td><td>97.2304</td><td>3.1621</td><td>1.7706</td><td>0.9744</td><td>0.3804</td><td>0.0692</td><td>39.043</td><td>null</td><td>null</td><td>null</td><td>null</td><td>null</td><td>null</td><td>null</td><td>null</td><td>537.41</td><td>2.1437</td><td>5.17</td><td>0.1427</td><td>1.7648</td><td>0.053</td><td>0.962</td><td>6.6571</td><td>null</td><td>null</td><td>null</td><td>null</td><td>0.4958</td><td>0.0111</td><td>0.0033</td><td>2.2296</td><td>-0.0012</td><td>0.0252</td><td>0.0081</td><td>0.0</td></tr></tbody></table></div>"
      ],
      "text/plain": [
       "shape: (5, 591)\n",
       "┌───────────┬──────────┬──────────┬───────────┬───┬────────────┬───────────┬───────────┬───────────┐\n",
       "│           ┆ Sensor-1 ┆ Sensor-2 ┆ Sensor-3  ┆ … ┆ Sensor-587 ┆ Sensor-58 ┆ Sensor-58 ┆ Sensor-59 │\n",
       "│ ---       ┆ ---      ┆ ---      ┆ ---       ┆   ┆ ---        ┆ 8         ┆ 9         ┆ 0         │\n",
       "│ str       ┆ f64      ┆ f64      ┆ f64       ┆   ┆ f64        ┆ ---       ┆ ---       ┆ ---       │\n",
       "│           ┆          ┆          ┆           ┆   ┆            ┆ f64       ┆ f64       ┆ f64       │\n",
       "╞═══════════╪══════════╪══════════╪═══════════╪═══╪════════════╪═══════════╪═══════════╪═══════════╡\n",
       "│ Wafer-800 ┆ 3002.22  ┆ 2462.06  ┆ 2202.1222 ┆ … ┆ 0.0545     ┆ 0.0184    ┆ 0.0055    ┆ 33.7876   │\n",
       "│ Wafer-500 ┆ 3047.28  ┆ 2186.06  ┆ 2235.0556 ┆ … ┆ 0.0222     ┆ 0.0182    ┆ 0.006     ┆ 81.9472   │\n",
       "│ Wafer-501 ┆ 3076.81  ┆ 2158.75  ┆ 2208.2334 ┆ … ┆ 0.0465     ┆ 0.0299    ┆ 0.009     ┆ 64.2405   │\n",
       "│ Wafer-502 ┆ 2951.62  ┆ 2511.92  ┆ 2253.5111 ┆ … ┆ -0.0012    ┆ 0.0252    ┆ 0.0081    ┆ 0.0       │\n",
       "│ Wafer-503 ┆ 2930.42  ┆ 2505.17  ┆ 2235.0556 ┆ … ┆ -0.0012    ┆ 0.0252    ┆ 0.0081    ┆ 0.0       │\n",
       "└───────────┴──────────┴──────────┴───────────┴───┴────────────┴───────────┴───────────┴───────────┘"
      ]
     },
     "execution_count": 10,
     "metadata": {},
     "output_type": "execute_result"
    }
   ],
   "source": [
    "df.head()"
   ]
  }
 ],
 "metadata": {
  "kernelspec": {
   "display_name": "venvmain",
   "language": "python",
   "name": "python3"
  },
  "language_info": {
   "codemirror_mode": {
    "name": "ipython",
    "version": 3
   },
   "file_extension": ".py",
   "mimetype": "text/x-python",
   "name": "python",
   "nbconvert_exporter": "python",
   "pygments_lexer": "ipython3",
   "version": "3.10.14"
  }
 },
 "nbformat": 4,
 "nbformat_minor": 2
}
